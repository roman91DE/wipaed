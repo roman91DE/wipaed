{
 "cells": [
  {
   "cell_type": "code",
   "execution_count": 4,
   "metadata": {},
   "outputs": [],
   "source": [
    "%colors Linux"
   ]
  },
  {
   "cell_type": "code",
   "execution_count": null,
   "metadata": {},
   "outputs": [
    {
     "name": "stdout",
     "output_type": "stream",
     "text": [
      "Agent A wird vom Markt verdrängt\n"
     ]
    }
   ],
   "source": [
    "agents = {\n",
    "    \"A\": {\n",
    "      \"Bruttonutzen\": 400,\n",
    "      \"Mindestverguetung\": 350\n",
    "      },\n",
    "    \"B\": {\n",
    "      \"Bruttonutzen\": 200,\n",
    "      \"Mindestverguetung\": 200\n",
    "      }\n",
    "  }\n",
    "\n",
    "def zahlungsbereitschaft(agents):\n",
    "  tmp = 0\n",
    "  for agent in (agents.keys()):\n",
    "    tmp += agents[agent][\"Bruttonutzen\"]\n",
    "  return (tmp / len(agents))\n",
    "  \n",
    "  \n",
    "def hidden_information(agents):\n",
    "    while len(agents) > 0:\n",
    "      zb = zahlungsbereitschaft(agents)\n",
    "      for agent in agents.keys():\n",
    "        if zb < agents[agent][\"Mindestverguetung\"]:\n",
    "          print(f\"Agent {agent} wird vom Markt verdrängt\")\n",
    "          agents.pop(agent)\n",
    "          hidden_information(agents)\n",
    "        else:\n",
    "            print(f\"Agent {agent} ist der letzte verbleibende Agent am Markt!\")\n",
    "            return\n",
    "\n",
    "        \n",
    "        \n",
    "hidden_information(agents)"
   ]
  },
  {
   "cell_type": "code",
   "execution_count": null,
   "metadata": {},
   "outputs": [],
   "source": []
  }
 ],
 "metadata": {
  "kernelspec": {
   "display_name": "Python 3.9.7 64-bit ('machine-learning': conda)",
   "language": "python",
   "name": "python397jvsc74a57bd0ac7743e1cbd3b03a83a6dd538270ea123d7e94c3a131c54d4947d8f217de6900"
  },
  "language_info": {
   "codemirror_mode": {
    "name": "ipython",
    "version": 3
   },
   "file_extension": ".py",
   "mimetype": "text/x-python",
   "name": "python",
   "nbconvert_exporter": "python",
   "pygments_lexer": "ipython3",
   "version": "3.9.7"
  }
 },
 "nbformat": 4,
 "nbformat_minor": 4
}
