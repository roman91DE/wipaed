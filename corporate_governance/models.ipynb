{
 "cells": [
  {
   "cell_type": "markdown",
   "metadata": {},
   "source": [
    "# Corporate Governance - Models discussed in the Lecture"
   ]
  },
  {
   "cell_type": "markdown",
   "metadata": {},
   "source": [
    "## Informationsasymmetrien"
   ]
  },
  {
   "cell_type": "code",
   "execution_count": 18,
   "metadata": {},
   "outputs": [],
   "source": [
    "import numpy as np\n",
    "from matplotlib import pyplot as plt"
   ]
  },
  {
   "cell_type": "code",
   "execution_count": 1,
   "metadata": {},
   "outputs": [],
   "source": [
    "agents = {\n",
    "    \"A\": {\n",
    "      \"Bruttonutzen\": 400,\n",
    "      \"Mindestverguetung\": 350\n",
    "      },\n",
    "    \"B\": {\n",
    "      \"Bruttonutzen\": 200,\n",
    "      \"Mindestverguetung\": 200\n",
    "      }\n",
    "  }"
   ]
  },
  {
   "cell_type": "code",
   "execution_count": 2,
   "metadata": {},
   "outputs": [
    {
     "name": "stdout",
     "output_type": "stream",
     "text": [
      "Netto Nutzen Prinzipal bei Beauftragung von Agent A: 50\n",
      "Netto Nutzen Prinzipal bei Beauftragung von Agent B: 0\n",
      "Auswahl der Prinzipals: Agent A\n"
     ]
    }
   ],
   "source": [
    "def total_information(agents):\n",
    "  selection = None\n",
    "  for agent in agents.keys():\n",
    "    tmp = agents[agent][\"Bruttonutzen\"] - agents[agent][\"Mindestverguetung\"]\n",
    "    print(f\"\"\"Netto Nutzen Prinzipal bei Beauftragung von Agent {agent}: {tmp}\"\"\")\n",
    "    if selection is None:\n",
    "      selection = agent\n",
    "    elif tmp > agents[selection][\"Bruttonutzen\"] - agents[selection][\"Mindestverguetung\"]:\n",
    "      selection = agent\n",
    "  print(f\"Auswahl der Prinzipals: Agent {selection}\")\n",
    "\n",
    "\n",
    "total_information(agents)"
   ]
  },
  {
   "cell_type": "code",
   "execution_count": 3,
   "metadata": {},
   "outputs": [
    {
     "name": "stdout",
     "output_type": "stream",
     "text": [
      "Agent A wird vom Markt verdrängt\n",
      "Agent B ist der letzte verbleibende Agent am Markt!\n"
     ]
    }
   ],
   "source": [
    "def zahlungsbereitschaft(agents):\n",
    "  tmp = 0\n",
    "  for agent in (agents.keys()):\n",
    "    tmp += agents[agent][\"Bruttonutzen\"]\n",
    "  return (tmp / len(agents))\n",
    "  \n",
    "  \n",
    "def hidden_information(agents):\n",
    "    while len(agents) > 0:\n",
    "      zb = zahlungsbereitschaft(agents)\n",
    "      for agent in agents.keys():\n",
    "        if zb < agents[agent][\"Mindestverguetung\"]:\n",
    "          print(f\"Agent {agent} wird vom Markt verdrängt\")\n",
    "          agents.pop(agent)\n",
    "          return hidden_information(agents)\n",
    "        else:\n",
    "            print(f\"Agent {agent} ist der letzte verbleibende Agent am Markt!\")\n",
    "            return\n",
    "\n",
    "hidden_information(agents)"
   ]
  },
  {
   "cell_type": "markdown",
   "metadata": {},
   "source": [
    "## Preference-based CSR Activities"
   ]
  },
  {
   "cell_type": "code",
   "execution_count": 17,
   "metadata": {},
   "outputs": [
    {
     "name": "stdout",
     "output_type": "stream",
     "text": [
      "Clean Project:\n",
      "Shareholder Profit: 200\tCommunity Damage: 0\tWohlfahrt: 200\n",
      "\n",
      "Dirty Project:\n",
      "Shareholder Profit: 250\tCommunity Damage: 60\tWohlfahrt: 190\n"
     ]
    }
   ],
   "source": [
    "# 2 alternative projects to pick\n",
    "clean = {\n",
    "    \"payout\": 200,\n",
    "    \"damage\": 0    # outside damage, doesnt affect shareholders\n",
    "\n",
    "}\n",
    "\n",
    "dirty = {\n",
    "    \"payout\": 250,\n",
    "    \"damage\": 60\n",
    "}\n",
    "\n",
    "\n",
    "# shareholder preferences (median shareholder)\n",
    "social_pref = 0.3\n",
    "economic_pref = (1 - social_pref)\n",
    "\n",
    "# step 1: compute Wohlfahrt for both projects\n",
    "\n",
    "def calc_wohlfahrt(profit, damage):\n",
    "    return profit - damage\n",
    "\n",
    "def analyze (project):\n",
    "    wf = calc_wohlfahrt(project[\"payout\"], project[\"damage\"])\n",
    "    print(\n",
    "        f\"\"\"Shareholder Profit: {project[\"payout\"]}\\tCommunity Damage: {project[\"damage\"]}\\tWohlfahrt: {wf}\"\"\"\n",
    "    )\n",
    "\n",
    "print(\"Clean Project:\")\n",
    "analyze(clean)\n",
    "\n",
    "print(\"\\nDirty Project:\")\n",
    "analyze(dirty)"
   ]
  },
  {
   "cell_type": "code",
   "execution_count": 23,
   "metadata": {},
   "outputs": [],
   "source": [
    "social_preferences = np.linspace(.2, .8, 4)\n",
    "economic_preferences = np.array([\n",
    "    (1 - social_pref) for social_pref in social_preferences \n",
    "])\n",
    "\n",
    "\n",
    "def shareholder_utility(social_pref, economic_pref, project):\n",
    "    return (\n",
    "        social_pref * calc_wohlfahrt(project[\"payout\"], project[\"damage\"]) +\n",
    "        economic_pref * project[\"payout\"]\n",
    "    )"
   ]
  },
  {
   "cell_type": "code",
   "execution_count": 30,
   "metadata": {},
   "outputs": [
    {
     "name": "stderr",
     "output_type": "stream",
     "text": [
      "No artists with labels found to put in legend.  Note that artists whose label start with an underscore are ignored when legend() is called with no argument.\n"
     ]
    },
    {
     "data": {
      "text/plain": [
       "<matplotlib.legend.Legend at 0x7fb84b453820>"
      ]
     },
     "execution_count": 30,
     "metadata": {},
     "output_type": "execute_result"
    },
    {
     "data": {
      "image/png": "[encoded data removed]",
      "text/plain": [
       "<Figure size 432x288 with 1 Axes>"
      ]
     },
     "metadata": {
      "needs_background": "light"
     },
     "output_type": "display_data"
    }
   ],
   "source": [
    "fig, ax = plt.subplots()\n",
    "\n",
    "for social_pref, economic_pref in zip(social_preferences, economic_preferences):\n",
    "    ax.scatter(social_pref, shareholder_utility(social_pref, economic_pref, clean), color=\"green\")\n",
    "    ax.scatter(social_pref, shareholder_utility(social_pref, economic_pref, dirty), color=\"red\")\n",
    "    \n",
    "ax.legend()"
   ]
  }
 ],
 "metadata": {
  "kernelspec": {
   "display_name": "Python 3.9.7 64-bit ('machine-learning': conda)",
   "language": "python",
   "name": "python397jvsc74a57bd0ac7743e1cbd3b03a83a6dd538270ea123d7e94c3a131c54d4947d8f217de6900"
  },
  "language_info": {
   "codemirror_mode": {
    "name": "ipython",
    "version": 3
   },
   "file_extension": ".py",
   "mimetype": "text/x-python",
   "name": "python",
   "nbconvert_exporter": "python",
   "pygments_lexer": "ipython3",
   "version": "3.9.7"
  }
 },
 "nbformat": 4,
 "nbformat_minor": 4
}
